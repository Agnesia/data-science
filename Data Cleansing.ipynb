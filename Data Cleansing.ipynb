{
 "cells": [
  {
   "cell_type": "code",
   "execution_count": 1,
   "metadata": {},
   "outputs": [],
   "source": [
    "import numpy as np\n",
    "import pandas as pd\n",
    "import matplotlib.pyplot as plt\n",
    "import seaborn as sns"
   ]
  },
  {
   "cell_type": "code",
   "execution_count": 2,
   "metadata": {},
   "outputs": [],
   "source": [
    "df = pd.read_csv('loan_customer.csv')"
   ]
  },
  {
   "cell_type": "code",
   "execution_count": 3,
   "metadata": {},
   "outputs": [
    {
     "name": "stdout",
     "output_type": "stream",
     "text": [
      "<class 'pandas.core.frame.DataFrame'>\n",
      "RangeIndex: 621 entries, 0 to 620\n",
      "Data columns (total 17 columns):\n",
      " #   Column              Non-Null Count  Dtype  \n",
      "---  ------              --------------  -----  \n",
      " 0   loan_id             621 non-null    object \n",
      " 1   birth_date          572 non-null    object \n",
      " 2   phone_number        569 non-null    float64\n",
      " 3   gender              608 non-null    object \n",
      " 4   married             618 non-null    object \n",
      " 5   dependents          605 non-null    object \n",
      " 6   education           620 non-null    object \n",
      " 7   self_employed       588 non-null    object \n",
      " 8   applicant_income    612 non-null    float64\n",
      " 9   coapplicant_income  621 non-null    float64\n",
      " 10  loan_amount         621 non-null    int64  \n",
      " 11  loan_term_month     621 non-null    int64  \n",
      " 12  loan_term_year      621 non-null    int64  \n",
      " 13  credit_history      570 non-null    float64\n",
      " 14  has_credit_card     88 non-null     object \n",
      " 15  property_type       620 non-null    object \n",
      " 16  loan_status         621 non-null    object \n",
      "dtypes: float64(4), int64(3), object(10)\n",
      "memory usage: 82.6+ KB\n"
     ]
    }
   ],
   "source": [
    "df.info()"
   ]
  },
  {
   "cell_type": "code",
   "execution_count": null,
   "metadata": {},
   "outputs": [],
   "source": []
  }
 ],
 "metadata": {
  "kernelspec": {
   "display_name": "Python 3",
   "language": "python",
   "name": "python3"
  },
  "language_info": {
   "codemirror_mode": {
    "name": "ipython",
    "version": 3
   },
   "file_extension": ".py",
   "mimetype": "text/x-python",
   "name": "python",
   "nbconvert_exporter": "python",
   "pygments_lexer": "ipython3",
   "version": "3.8.5"
  }
 },
 "nbformat": 4,
 "nbformat_minor": 4
}
